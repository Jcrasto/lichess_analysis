{
 "cells": [
  {
   "cell_type": "code",
   "execution_count": 1,
   "id": "33534375-e50b-43fd-a8f1-6ec7968023fb",
   "metadata": {},
   "outputs": [],
   "source": [
    "import os\n",
    "from utils.query_utils import athena_query_to_df\n",
    "import requests\n",
    "import json"
   ]
  },
  {
   "cell_type": "code",
   "execution_count": 2,
   "id": "b7dffd12-d958-4ef0-82b3-544ce6fc8fcb",
   "metadata": {},
   "outputs": [],
   "source": [
    "df = athena_query_to_df(\"select * from lichess.lichess_api_data order by date desc \")"
   ]
  },
  {
   "cell_type": "code",
   "execution_count": 3,
   "id": "0f934ae7-f286-4b33-94e4-ffe2fa5694e9",
   "metadata": {},
   "outputs": [],
   "source": [
    "test = df.iloc[0]['gamestring']"
   ]
  },
  {
   "cell_type": "code",
   "execution_count": 4,
   "id": "d4adda00-ee0c-421d-ad4b-17ff45106b3e",
   "metadata": {},
   "outputs": [],
   "source": [
    "model=\"gpt-3.5-turbo\""
   ]
  },
  {
   "cell_type": "code",
   "execution_count": 5,
   "id": "5b07bc14-2c84-4323-9f8b-40029ef65fd1",
   "metadata": {},
   "outputs": [],
   "source": [
    "api_key = \"\""
   ]
  },
  {
   "cell_type": "markdown",
   "id": "40c6c5cb-852d-40e1-97da-8c8f8ca34d2e",
   "metadata": {},
   "source": [
    "https://platform.openai.com/playground"
   ]
  },
  {
   "cell_type": "code",
   "execution_count": 25,
   "id": "77d19337-cef2-4b0d-9c0f-8e018f3563d9",
   "metadata": {},
   "outputs": [],
   "source": [
    "conversation = [\n",
    "    {\"role\": \"system\", \"content\": \"You are a chess expert.\"},\n",
    "    {\"role\": \"user\", \"content\": \"Here's a chess PGN string: {GAMESTRING}. Analyze it and tell me about any blunders or mistakes.\".\n",
    "         format(GAMESTRING=test)}\n",
    "]"
   ]
  },
  {
   "cell_type": "code",
   "execution_count": 27,
   "id": "f17c5cb4-b83b-451b-9fa2-878dc17fb3c0",
   "metadata": {},
   "outputs": [],
   "source": [
    "url = \"https://api.openai.com/v1/chat/completions\"\n",
    "\n",
    "headers = {\n",
    "    \"Authorization\": f\"Bearer {api_key}\",\n",
    "    \"Content-Type\": \"application/json\"\n",
    "}\n",
    "\n",
    "data = {\n",
    "    \"model\": \"gpt-3.5-turbo\",\n",
    "    \"messages\": conversation,\n",
    "    \"max_tokens\": 300\n",
    "}\n",
    "\n",
    "response = requests.post(url, headers=headers, json=data)\n",
    "result = response.json()"
   ]
  },
  {
   "cell_type": "code",
   "execution_count": 28,
   "id": "bd7e579b-ac09-4634-aa1b-241a8fe93e99",
   "metadata": {},
   "outputs": [
    {
     "data": {
      "text/plain": [
       "{'id': 'chatcmpl-8GyWJAYiAdvmk6dUt0EpNIQSruUn9',\n",
       " 'object': 'chat.completion',\n",
       " 'created': 1699056579,\n",
       " 'model': 'gpt-3.5-turbo-0613',\n",
       " 'choices': [{'index': 0,\n",
       "   'message': {'role': 'assistant',\n",
       "    'content': \"Overall, the game seems to be well-played by both sides. However, there are a few moves that can be considered suboptimal or even mistakes. Here is a move-by-move analysis:\\n\\n1. e4 d5\\nThis move is known as the Scandinavian Defense. It is a valid opening choice but is not as popular as other responses to 1.e4. No mistakes here.\\n\\n2. exd5 Nf6\\nBlack captures the pawn on d5 and develops a knight. This move is fine.\\n\\n3. c4 c6\\nBlack strikes back in the center, trying to undermine White's pawn structure. This move is reasonable but could lead to some tactical complications.\\n\\n4. Nc3 cxd5\\nWhite recaptures the pawn. Nothing wrong here.\\n\\n5. Nxd5 Nxd5\\nInstead of capturing on d5, Black could have considered playing 5...e6 to immediately attack the white knight on d5.\\n\\n6. cxd5 Qxd5\\nWhite develops a piece while attacking Black's queen. No mistakes here.\\n\\n7. Nf3 Bg4\\nThis move develops the bishop and pins the knight on d5, which is usually favorable for Black. However, it allows White to break the pin with the next move.\\n\\n8. Be2 Nc6\\nBlack develops a knight, aiming to control the center. No mistakes here.\\n\\n9. O-O O-O-O\\nBlack castles kingside, which\"},\n",
       "   'finish_reason': 'length'}],\n",
       " 'usage': {'prompt_tokens': 232,\n",
       "  'completion_tokens': 300,\n",
       "  'total_tokens': 532}}"
      ]
     },
     "execution_count": 28,
     "metadata": {},
     "output_type": "execute_result"
    }
   ],
   "source": [
    "result"
   ]
  },
  {
   "cell_type": "code",
   "execution_count": null,
   "id": "87985c58-abea-4d4e-a9fa-026755c34743",
   "metadata": {},
   "outputs": [],
   "source": []
  }
 ],
 "metadata": {
  "kernelspec": {
   "display_name": "Python 3 (ipykernel)",
   "language": "python",
   "name": "python3"
  },
  "language_info": {
   "codemirror_mode": {
    "name": "ipython",
    "version": 3
   },
   "file_extension": ".py",
   "mimetype": "text/x-python",
   "name": "python",
   "nbconvert_exporter": "python",
   "pygments_lexer": "ipython3",
   "version": "3.11.4"
  }
 },
 "nbformat": 4,
 "nbformat_minor": 5
}
