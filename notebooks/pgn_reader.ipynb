{
 "cells": [
  {
   "cell_type": "code",
   "execution_count": 6,
   "metadata": {},
   "outputs": [
    {
     "name": "stdout",
     "output_type": "stream",
     "text": [
      "The autoreload extension is already loaded. To reload it, use:\n",
      "  %reload_ext autoreload\n"
     ]
    }
   ],
   "source": [
    "%load_ext autoreload\n",
    "%autoreload 5"
   ]
  },
  {
   "cell_type": "code",
   "execution_count": 2,
   "metadata": {},
   "outputs": [],
   "source": [
    "from utils.query_utils import athena_query_to_df\n",
    "import json"
   ]
  },
  {
   "cell_type": "code",
   "execution_count": 7,
   "metadata": {},
   "outputs": [],
   "source": [
    "games_df_query = \"\"\"select \"date\", white, black, \"result\", 1 as count,\n",
    "case\n",
    "\twhen white = 'luckleland' and result = '1-0' then 1\n",
    "\twhen black = 'luckleland' and result = '0-1' then 1\n",
    "\telse 0 \n",
    "end as \"win\",\n",
    "case\n",
    "\twhen black = 'luckleland' and result = '1-0' then 1\n",
    "\twhen white = 'luckleland' and result = '0-1' then 1\n",
    "\telse 0\n",
    "end as \"loss\",\n",
    "case\n",
    "\twhen result = '1/2-1/2' then 1\n",
    "\telse 0\n",
    "end as \"draw\",\n",
    "gamestring, id_key\n",
    "from lichess.lichess_api_data\n",
    "order by date desc\"\"\""
   ]
  },
  {
   "cell_type": "code",
   "execution_count": 8,
   "metadata": {},
   "outputs": [],
   "source": [
    "games_df = athena_query_to_df(games_df_query)"
   ]
  },
  {
   "cell_type": "code",
   "execution_count": 9,
   "metadata": {},
   "outputs": [],
   "source": [
    "def pgn_parser(game_string):\n",
    "    last_move = False\n",
    "    move_number = 1\n",
    "    game_dict = dict()\n",
    "    while not last_move:\n",
    "        move_string = str(move_number) + \".\"\n",
    "        next_move_string = str(move_number + 1) + \".\"\n",
    "        if next_move_string not in game_string:\n",
    "            last_move = True\n",
    "            move_list = game_string[game_string.index(move_string) + len(move_string):].split()\n",
    "            game_dict.update({move_string[:-1] + \"a\": move_list[0]})\n",
    "            if move_list[1] != '0-1' and move_list[1] != '1-0' and move_list[1] != '1/2-1/2':\n",
    "                game_dict.update({move_string[:-1] + \"b\": move_list[1]})\n",
    "        else:\n",
    "            move_list = game_string[game_string.index(move_string) + len(move_string):game_string.index(next_move_string)].split()  \n",
    "            game_dict.update({move_string[:-1] + \"a\": move_list[0]})\n",
    "            game_dict.update({move_string[:-1] + \"b\": move_list[1]})\n",
    "            move_number += 1\n",
    "    return json.dumps(game_dict)"
   ]
  },
  {
   "cell_type": "code",
   "execution_count": 10,
   "metadata": {},
   "outputs": [],
   "source": [
    "games_df['game_json'] = games_df['gamestring'].apply(lambda x: pgn_parser(x))"
   ]
  },
  {
   "cell_type": "code",
   "execution_count": 11,
   "metadata": {},
   "outputs": [],
   "source": [
    "games_df['id_key'] = games_df['id_key'].astype(str)"
   ]
  },
  {
   "cell_type": "code",
   "execution_count": 13,
   "metadata": {},
   "outputs": [],
   "source": [
    "games_df.drop(['result','gamestring'], axis = 1).to_parquet(\"s3://jcrasto-chess-analysis/luckleland_results/\",partition_cols=[\"date\"])"
   ]
  },
  {
   "cell_type": "code",
   "execution_count": null,
   "metadata": {},
   "outputs": [],
   "source": []
  }
 ],
 "metadata": {
  "kernelspec": {
   "display_name": "Python 3",
   "language": "python",
   "name": "python3"
  },
  "language_info": {
   "codemirror_mode": {
    "name": "ipython",
    "version": 3
   },
   "file_extension": ".py",
   "mimetype": "text/x-python",
   "name": "python",
   "nbconvert_exporter": "python",
   "pygments_lexer": "ipython3",
   "version": "3.7.3"
  }
 },
 "nbformat": 4,
 "nbformat_minor": 4
}
